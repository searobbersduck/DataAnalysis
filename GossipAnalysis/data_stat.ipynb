{
 "cells": [
  {
   "cell_type": "code",
   "execution_count": 6,
   "metadata": {},
   "outputs": [],
   "source": [
    "#!/usr/env/bin python3\n",
    "import os\n",
    "import sys\n",
    "import numpy as np\n",
    "import json\n",
    "import matplotlib.pyplot as plt\n",
    "%matplotlib inline\n",
    "from matplotlib.font_manager import FontProperties"
   ]
  },
  {
   "cell_type": "code",
   "execution_count": 7,
   "metadata": {},
   "outputs": [],
   "source": [
    "def getChineseFont():\n",
    "    return FontProperties(fname='/System/Library/Fonts/PingFang.ttc',size=15)"
   ]
  },
  {
   "cell_type": "code",
   "execution_count": 8,
   "metadata": {},
   "outputs": [],
   "source": [
    "infile = './dataset/maimai_sample_5w.txt'"
   ]
  },
  {
   "cell_type": "code",
   "execution_count": 9,
   "metadata": {},
   "outputs": [
    {
     "data": {
      "text/plain": [
       "\"\\n1. 统计likes数目，画出分布直方图\\n2. 发布者统计\\n3. text的词频统计\\n4. 每一项中的keys：dict_keys(['is_freeze', 'username', 'id', 'likes', 'text', 'search_qs', 'search_order', 'avatar', 'crtime_string', 'author', 'crtime', 'total_cnt', 'summary'])\\n\""
      ]
     },
     "execution_count": 9,
     "metadata": {},
     "output_type": "execute_result"
    }
   ],
   "source": [
    "'''\n",
    "1. 统计likes数目，画出分布直方图\n",
    "2. 发布者统计\n",
    "3. text的词频统计\n",
    "4. 每一项中的keys：dict_keys(['is_freeze', 'username', 'id', 'likes', 'text', 'search_qs', 'search_order', 'avatar', 'crtime_string', 'author', 'crtime', 'total_cnt', 'summary'])\n",
    "'''"
   ]
  },
  {
   "cell_type": "code",
   "execution_count": 10,
   "metadata": {},
   "outputs": [],
   "source": [
    "gossip_set = []\n",
    "gossip_set_likes = []\n",
    "gossip_set_usernames = []\n",
    "gossip_set_texts = []"
   ]
  },
  {
   "cell_type": "code",
   "execution_count": 14,
   "metadata": {},
   "outputs": [],
   "source": [
    "with open(infile, 'r', encoding='utf8') as f:\n",
    "    for line in f.readlines():\n",
    "        line = line.strip()\n",
    "        if line is None or line == '':\n",
    "            continue\n",
    "        gossip_item = json.loads(line)\n",
    "        gossip_set_likes.append(int(gossip_item['likes']))\n",
    "        gossip_set_usernames.append(gossip_item['username'])\n",
    "        gossip_set_texts.append(gossip_item['text'])\n",
    "        gossip_set.append(gossip_item)"
   ]
  },
  {
   "cell_type": "code",
   "execution_count": 51,
   "metadata": {},
   "outputs": [
    {
     "name": "stdout",
     "output_type": "stream",
     "text": [
      "八卦数目： 50000\n",
      "最大点赞数： 4223\n",
      "最少点赞数： 0\n",
      "点赞数超过100的帖子的个数:  1460\n",
      "点赞数为0的帖子的个数:  12222\n"
     ]
    },
    {
     "data": {
      "image/png": "[encoded data removed]",
      "text/plain": [
       "<Figure size 432x288 with 2 Axes>"
      ]
     },
     "metadata": {
      "needs_background": "light"
     },
     "output_type": "display_data"
    }
   ],
   "source": [
    "print('八卦数目：', len(gossip_set))\n",
    "# 对likes属性进行统计\n",
    "likes_max = np.max(np.array(gossip_set_likes))\n",
    "print('最大点赞数：', likes_max)\n",
    "likes_min = np.min(np.array(gossip_set_likes))\n",
    "print('最少点赞数：', likes_min)\n",
    "likes_exception = sum(int(i)>100 for i in gossip_set_likes)\n",
    "print('点赞数超过100的帖子的个数: ', likes_exception)\n",
    "likes_zero = sum(int(i)==0 for i in gossip_set_likes)\n",
    "print('点赞数为0的帖子的个数: ', likes_zero)\n",
    "plt.figure()\n",
    "plt.subplot(211)\n",
    "plt.hist(np.array([i for i in gossip_set_likes if i < 100]), bins=20)\n",
    "plt.xlabel('点赞数', fontproperties=getChineseFont())\n",
    "plt.ylabel('频率', fontproperties=getChineseFont())\n",
    "plt.title('点赞数小于100的帖子的统计', fontproperties=getChineseFont())\n",
    "plt.subplot(212)\n",
    "plt.hist(np.array([i for i in gossip_set_likes if i < 20]), bins=20)\n",
    "plt.xlabel('点赞数', fontproperties=getChineseFont())\n",
    "plt.ylabel('频率', fontproperties=getChineseFont())\n",
    "plt.title('点赞数小于20的帖子的统计', fontproperties=getChineseFont())\n",
    "plt.tight_layout()"
   ]
  },
  {
   "cell_type": "code",
   "execution_count": 41,
   "metadata": {},
   "outputs": [
    {
     "name": "stdout",
     "output_type": "stream",
     "text": [
      "刚刚接到华为海思的面试邀请，不是很了解。各位大兄弟，海狮福利待遇、发展各方面肿么样？\n",
      "\n",
      "校招投的是sdn开发岗位，这几天大队培训后才发现被分配到硬件测试的岗位，测试也就罢了，还是硬件的…华为hr脑子有洞！\n",
      "\n",
      "见到今天腾讯新闻报道，周群飞女士成为中国女首富！！！从去年一直关注的蓝思科技，直至周群飞女强人成为中国女首富！悟:只有经历最苦的坚持，才配得起最持久的幸福，也许选择对了，越拼越有戏！“姑娘，您什么看”！\n",
      "\n",
      "美团为什么没有年会......为什么为什么为什么！最近朋友圈全别人晒的年会[冷汗][冷汗][冷汗]\n",
      "\n",
      "阿里猎头比阿里HR还屌，发了offer问我去不去，我说级别感觉有点低，别的猎头给找的职位都是P7以上，她说你就这水平，P7要博士并5年工作经验以上，其他都是P6...好吧，强势猎头强势企业，惹不起惹不起，最后她还洋洋得意的说上周她还成了一个P9的，我猜可能是杨振宁本人吧[挖鼻屎]\n",
      "\n",
      "京东员工租不起房子了，怎么搞\n",
      "\n",
      "2018年想去阿里巴巴/腾讯海外事业部，商务岗ToB类，可以驻外可以出差，东南亚、非洲、欧美，都可以。传统行业8年国际事务经验+211本澳洲硕，有没有机会？形象气质不错，人品端正工作踏实。\n",
      "\n",
      "\n",
      "\n",
      "看看支付宝运动的排行榜，这是什么情况？不显示排行榜的话，就不会出现在榜里了，可是这个有显示步数，具体什么原因（没有删除好友，也不是网络原因。）\n",
      "\n",
      "工作两年面试阿里的p6，在工作经验上来看，可否对标？[可怜][可怜][可怜]\n",
      "\n",
      "58同城 T5 23k 加500股 测试开发职位 年薪比之前就多了2000块 值得去么？还是再和58还还价？T5的范围大概是多少？\n"
     ]
    }
   ],
   "source": [
    "# 取点赞数前10的帖子，看一下内容\n",
    "gossip_set_likes_texts = zip(gossip_set_likes, gossip_set_texts)\n",
    "gossip_set_likes_texts = sorted(gossip_set_likes_texts, key=lambda x: x[0], reverse=True)\n",
    "tmp = gossip_set_likes_texts[0:10]\n",
    "print('\\n\\n'.join(list(zip(*tmp))[1]))"
   ]
  },
  {
   "cell_type": "code",
   "execution_count": 44,
   "metadata": {},
   "outputs": [
    {
     "data": {
      "text/plain": [
       "[('****', 4654),\n",
       " ('百度员工', 980),\n",
       " ('灰太狼', 356),\n",
       " ('美团员工', 331),\n",
       " ('诸葛瑾', 330),\n",
       " ('苏星河', 329),\n",
       " ('黑白子', 317),\n",
       " ('懒羊羊', 311),\n",
       " ('京东员工', 308),\n",
       " ('喜羊羊', 305)]"
      ]
     },
     "execution_count": 44,
     "metadata": {},
     "output_type": "execute_result"
    }
   ],
   "source": [
    "# 看一下是否一人发多个贴，如果有，看下这些帖子的热度和内容\n",
    "from collections import Counter\n",
    "username_counter = Counter(gossip_set_usernames)\n",
    "username_counter = sorted(username_counter.items(), key=lambda x: x[1], reverse=True)\n",
    "username_counter[:10]"
   ]
  },
  {
   "cell_type": "code",
   "execution_count": 73,
   "metadata": {},
   "outputs": [
    {
     "data": {
      "text/plain": [
       "[('百度员工', 378, '来百度三个月了，第一个月新鲜，第二个月开始每天都想走[笑哭]有没有跟我一样的'),\n",
       " ('百度员工', 276, '今年以来，领导带的技术方向没一个是对的，净做些没卵用的活，还时常自己挖坑自己填。坐等他被大领导开除~ '),\n",
       " ('百度员工',\n",
       "  261,\n",
       "  '真心觉得在百度挺好的，去年在腾讯感觉工作真的好压抑，与同事难相处，到百度来感觉好太多。那些说百度不行了的随他说去吧，我工作的开心最重要'),\n",
       " ('百度员工', 223, '百度feed策略端组织调整，了解内情的来说说'),\n",
       " ('百度员工', 201, '买了一个微博账号，大概有3万粉丝（粉丝粘度非常高），价钱是：7000元。你们觉得合理吗？'),\n",
       " ('百度员工',\n",
       "  198,\n",
       "  '今天去面一个创业公司，是即将离职的人面我也是醉了。然后告诉我公司很乱，部门和部门之间的斗争很厉害，还问我认识他们公司老大不，我说认识是认识，不熟。问我有多不熟，我说也就见面打个招呼那种。感觉公司帮派严重，他是诺基亚的，公司老大是百度的，感觉自己铁定没戏了，他都要混不下去了。'),\n",
       " ('百度员工', 197, '百度至今erp未更新去难道真的要下个月更新，然后把涨薪放到下个月吗？少发一个月的涨薪工资，鸡贼啊。'),\n",
       " ('百度员工', 186, '北京百度PMO…BAT上海有坑么？想去上海，PM，PMO，活动运营都可以哈'),\n",
       " ('百度员工', 178, '问一下腾讯omg 事业部是不是在裁员 乱不乱 情况怎么样啊 '),\n",
       " ('百度员工', 160, '百度和阿里有消息要一起宣布'),\n",
       " ('百度员工', 159, '面阿里的测试开发，哪个团队的面试会快一点。面试间隔时间也太长了'),\n",
       " ('百度员工', 153, '360 AI lab面试体验很好，副院长面试，人很不错'),\n",
       " ('百度员工', 139, '百度社保公积金是按照16k的基础交吗。。。。'),\n",
       " ('百度员工', 136, '百度校招只给了接收函稳不稳？'),\n",
       " ('百度员工', 134, '马上入职百度，好紧张啊[做鬼脸][做鬼脸][做鬼脸]'),\n",
       " ('百度员工',\n",
       "  131,\n",
       "  '来北京三周了，手上的皮脱完一层后开始脱第二层，这中间还流了两次鼻血，讲真的不知道秋冬季要怎么死呢，可是我才进百度两周，是要回上海还是继续熬？'),\n",
       " ('百度员工', 130, '    我突然觉得好悲壮。我真不知道我将来离开百度可以学到什么东西。   你们觉得呢？  利用这个平台获得些啥？'),\n",
       " ('百度员工', 130, '百度元旦节有没有礼品啊？'),\n",
       " ('百度员工', 126, '美团3.3什么级别 性价比如何 知道的老铁请回答'),\n",
       " ('百度员工',\n",
       "  124,\n",
       "  '坐标百度，是不是该跳去头条？昨晚股价涨了后忽然想到，既然厂里可以靠feed流到900亿美元市值，那头条岂不是起码1/2000亿？毕竟论真实数据，他们比我们还是要强，只是差在变现。且他们有抖音火山西瓜？阿里腾讯的来说说。'),\n",
       " ('百度员工', 121, '感觉自己来了一个假百度，前同事入职百度，合同上写的16薪。'),\n",
       " ('百度员工', 120, '度秘有了解的么？准备trans过去，云端的bot开发，主要是干啥的？[坏笑]百度[火]'),\n",
       " ('百度员工',\n",
       "  119,\n",
       "  '！！！求前人解惑：百度这次升职加薪的涨幅是百度统一规定的吗？还是老大定的？[疑问]大家的涨幅都是多少啊？？？T序列和P序列是一样的吗？大家报一下吧~[沙发]'),\n",
       " ('百度员工', 116, '狼厂的年终奖，有已经到账的吗'),\n",
       " ('百度员工', 116, '百度啥级别能看到汇报关系啊？'),\n",
       " ('百度员工',\n",
       "  114,\n",
       "  '三十多岁好尴尬，玩个电脑游戏都要偷偷的，不敢跟人说，玩个王者荣耀，不得不新买个手机号开个新微信玩。。。怕领导说不务正业，怕手下背后笑话。唉，看看网络小说都被媳妇儿说幼稚。现在每天最大的乐趣就是和三岁的儿子一起看奥特曼了，儿子说困了，我说忍忍看完这集就哄你睡觉。[笑哭]'),\n",
       " ('百度员工', 107, '硕六年，去阿里系，只给P7，T6对应，猎头说50到60万，涨的很少，但是股票可挣取，和这里比太Low了\\n'),\n",
       " ('百度员工',\n",
       "  106,\n",
       "  '暨百度内网发帖2个小时被直接领导离职，今日发布第三弹：离职当天社团群被强制退出，无法再加入，签名档被清除。现在，签名档、头像均我自己可见，但公司内部人看不到。郁蓓是不是专科，是不是在搜狐工作两年，是不是三年没上班，请大搜hr先告诉我此人何德何能拿着三年前离职证明进入百度'),\n",
       " ('百度员工',\n",
       "  104,\n",
       "  '不黑的问\\n百度里产品岗发展好的部门有哪些？\\n我个人理解有：度秘、大搜垂直行业、Feed、凤巢 \\n顺便问一句AI平台的产品怎么样？IDL的Pm例如？'),\n",
       " ('百度员工',\n",
       "  100,\n",
       "  '在百度三年多，升了两级，汇报线却从5级变成7级[瞪眼]上头领导来来走走，不变的是上任就码人，下线继续发展下线，不是新兵蛋子都想管人，该干活的时间精力都去做内部沟通了，U6下面都两个层级了，说好的互联网扁平化呢？确定不是传销公司吗？痛心[吐]怀念三年前刚进百度那个做事的团队'),\n",
       " ('百度员工', 100, '一首凉凉的送给百度员工'),\n",
       " ('百度员工', 99, '携程这样的企业。。。我们公司出差预定还必须是携程的，我真的想卸载！'),\n",
       " ('百度员工', 96, '百度晋升结果啥时候出来'),\n",
       " ('百度员工', 94, '要转正答辩了，开始写在百度的第一个PPT。。。。。[吐]'),\n",
       " ('百度员工', 93, '业界黑名单，携程和58，已经全面卸载'),\n",
       " ('百度员工',\n",
       "  92,\n",
       "  '在百度呆了快四年了……身边的同事都换了三四波了……想跳槽然而面了快一年都没找到下家…能体会我的忧伤么？只能怪自己能力不好，表达和包装能力不强……'),\n",
       " ('百度员工', 88, '妈的 9点半在百度科技园如何能打到西二旗回龙观龙泽区域的车？？？？'),\n",
       " ('百度员工', 88, '想问一下，应届博士生华为，给了16级 26k，这个价格算不算低？AI方向'),\n",
       " ('百度员工', 88, '狼厂评p序列就是ppt和吹牛b大赛！赢者上'),\n",
       " ('百度员工', 88, '百度年假10天能放满吗？'),\n",
       " ('百度员工', 85, '听说去年百度发了一批特殊激励，那今年还发绩优奖不'),\n",
       " ('百度员工', 85, '有谁知道武汉今日头条运营的情况吗？'),\n",
       " ('百度员工', 85, '请问百度上研都在哪里租房呢？有什么比较合适的渠道？求指教。听说自如这种中介平台挺坑的……'),\n",
       " ('百度员工', 83, '老子百度实习生加班现在leader屁都没说，打车自费是咋的？'),\n",
       " ('百度员工', 81, '百度5月份转岗绩效在哪边打?'),\n",
       " ('百度员工', 80, '百度试用期 KPI 大家都怎么写的，经理说没有量化的指标给我退回了[吐血][吐血][吐血]'),\n",
       " ('百度员工', 80, '领导已经3个星期没给分配任务了~ --- 百度'),\n",
       " ('百度员工', 80, '我11年来的狼厂移动云，之前t5这次升了t6，绩效二档，这次调薪大概有多少？好期待哦。'),\n",
       " ('百度员工', 79, '要离开狼厂了，有些舍不得，狼厂有各种问题，但也像一所大学，在这里学到很多，离开有毕业的感觉。'),\n",
       " ('百度员工', 78, '狼厂今年绩优奖发了吗，去年有特殊激励的今年还发绩优么'),\n",
       " ('百度员工',\n",
       "  77,\n",
       "  '最近这么多吐槽流水的，我想说百度现在其实真乱，现在加上社招禁止，好的人有才能的人都走了，反而很多没能力，跳不走的人留下来。网上遇到之前的老百度，谈起。还是十分敬佩。百度现在应该区分一下老百度和新百度。新百度大家躲，老百度大家抢'),\n",
       " ('百度员工', 75, '阿里被饿了么收购了？'),\n",
       " ('百度员工', 74, '狼厂的前辈们，百度普调结果啥时候出来？3月底发薪日还是4月底发薪日？[吃惊]'),\n",
       " ('百度员工', 72, '小米正在建科技园，24小时不间断施工，已经举报2次，都没用'),\n",
       " ('百度员工', 70, '面试官知道我负责过医疗客户的广告\\n一脸意味深长\\n说噢莆田医院是吧…\\n我也是很无奈啊\\n百度'),\n",
       " ('百度员工', 65, '有从滴滴，美团这些公司离职的吗？期权怎么处理能折现吗？还是就握着等上市行权？\\n'),\n",
       " ('百度员工', 65, '为何百度不管做什么，起步都很晚，而且还都做不好。。'),\n",
       " ('百度员工', 65, '我想做个没有商业竞价的搜索，采用新的商业模式，强调智能知识系统，有投资的吗，不同于百度阿里腾讯现在的搜索模式'),\n",
       " ('百度员工', 57, '腾讯sng内容平台部怎样？后台研发。。'),\n",
       " ('百度员工', 54, '深圳有推荐去的互联网公司吗\\n二线三线创业公司\\n除了腾讯 百度 阿里这些大厂以外'),\n",
       " ('百度员工', 54, '在吴恩达和陆奇之后，大家觉得百度还能招到哪位巨星？工业界或学术界都算。'),\n",
       " ('百度员工', 54, '美团对滴滴说：我恶心你\\n滴滴对美团说：我恶心死你\\n'),\n",
       " ('百度员工', 49, '入职百度一星期，已见识了百度女pm的恶心………她想甩锅，我不接，还天天追着我甩，不带这么欺负新人的'),\n",
       " ('百度员工', 48, '狼厂的绩优虽然取消了，往年是怎么发的，18年的替代政策有人有沟通？'),\n",
       " ('百度员工', 47, '百度T3、T4晋升都是看一线经理吗？有名额限制吗？如果不成功是否说明就是经理不满意？'),\n",
       " ('百度员工', 46, '周一阿里二面，周三结束了都没收到三面电话是不是凉了'),\n",
       " ('百度员工', 45, '百度这侮辱性涨薪……'),\n",
       " ('百度员工', 42, '滴滴杭州，大数据部门17*16 (原淘宝团队)\\n\\n京东北京商搜部门   大数据  20*14\\n\\n应届生！怎么选择！'),\n",
       " ('百度员工', 41, '问下大家啊，百度职能部门级别～薪资都是怎么定的'),\n",
       " ('百度员工', 39, '知乎的产品经理薪水如何？'),\n",
       " ('百度员工', 37, '今天已经3号了，百度晋升的结果出来了吗'),\n",
       " ('百度员工', 35, '刚毕业的时候在阿里待了几个月就走了。现在在百度t6还能去阿里吗？来个阿里hr说说啊。'),\n",
       " ('百度员工', 35, '想去爱奇艺做媒介执行'),\n",
       " ('百度员工', 34, '狼厂，系数0.6，参照前年！（0.6*0.3+1*0.7）*2=1.76！[冷汗]'),\n",
       " ('百度员工', 33, '今日头条今年feed有120亿收入吗'),\n",
       " ('百度员工', 32, '百度的产品管的事真多'),\n",
       " ('百度员工', 30, '喷子不要乱黑百度了，看不惯百度 请使用神马搜索 '),\n",
       " ('百度员工', 29, '百度提前批offer邮件下了，过了的来报道'),\n",
       " ('百度员工',\n",
       "  27,\n",
       "  '逼人离职的花式有哪些:1.不给工作冷处理2.严重的人岗不匹配3.做什么都是错4.给出远超出个人工作能力的工作任务……去年因项目入职华为，项目没了后以上事项，截止目前，全部经历了一遍，估计领导心想:“怎么还赶不走？”我也分分钟想走，无奈连续进坑，合适的机会不好换……'),\n",
       " ('百度员工', 26, '狼厂，好看视频要亡呀，看完一个视频就一段广告，不好好做内容提升用户数量，急着变现去死么？'),\n",
       " ('百度员工',\n",
       "  24,\n",
       "  '看了好几个帖子，都在为qi的离开，感到惋惜。我是新员工，本以为，百度在qi的带领下，可以重返bat，现在，隐隐感觉到一丝担忧。\\nRobin不把部分高层干倒一批，感觉不行啊\\n只希望百度越来越好'),\n",
       " ('百度员工', 23, '百度应届本科现在21岁，普通211，校招入职t3，能在30岁到t6吗。前辈们都是几年t6的'),\n",
       " ('百度员工', 23, '几轮面的都不错，美团一般面试完几个工作日hr跟沟通薪资'),\n",
       " ('百度员工', 23, '百度金融应届毕业生待遇怎么样'),\n",
       " ('百度员工', 22, '百度有普调吗[微笑][微笑][微笑][微笑]'),\n",
       " ('百度员工', 22, '腾讯T3.1相当于百度T几?'),\n",
       " ('百度员工', 21, '去年帮我买房的链家中介昨天找到我，说楼市行情不好，现在准备辞职去IT培训，哪个培训机构比较好啊？'),\n",
       " ('百度员工',\n",
       "  21,\n",
       "  '百度经理们喜欢用一个小伎俩，就是员工请假可以不提erp，睁只眼闭只眼权当给自己员工福利了。这种牺牲公司利益的灰色收益对员工来说是有风险的。那些以为占了便宜的同学们记住了，出来混早晚要还的。别问我咋还～'),\n",
       " ('百度员工',\n",
       "  21,\n",
       "  '今年29了，渣本毕业。工作五年多了(之前在小公司待了4年多，来狼厂8个月)，T4，目前工资20K，没房没车没女票，感觉自己好失败[流泪]'),\n",
       " ('百度员工', 19, '百度以前绩优奖是几月份发？'),\n",
       " ('百度员工', 19, '有腾讯北京分公司的PM吗？可以问问题吗？'),\n",
       " ('百度员工', 19, '百度校招2年p4，15k什么水平，低了吗'),\n",
       " ('百度员工', 19, '有五月份入职阿里的么'),\n",
       " ('百度员工',\n",
       "  18,\n",
       "  '15年本科毕业狼厂校招批发价，目前的薪资和今年的应届本科批发价差不了多少[笑哭]。这次升5了，10月份调薪如果没有表示的话准备走了，心灰意冷。'),\n",
       " ('百度员工', 17, '我就想问问 有没有想成为百度官方吧代运营的企业？'),\n",
       " ('百度员工', 17, '百度 哪些部门要求九点上班打卡'),\n",
       " ('百度员工', 17, '携程基础架构部门咋样啊，技术氛围啥的'),\n",
       " ('百度员工',\n",
       "  17,\n",
       "  '应届渣渣硕，求offer比较。\\n1.好未来培优 java开发 sp \\n2.百度 运营产品研发部 java 白菜\\n好未来总包比百度多了5、6万\\n各位大佬求从职业发展和个人成长给些建议 多谢🙏'),\n",
       " ('百度员工', 17, '西安华为2012实验室研发能力中心具体是做什么？有知道的吗？'),\n",
       " ('百度员工', 16, '百度在线和网讯、时代等这些公司名字有什么区别？')]"
      ]
     },
     "execution_count": 73,
     "metadata": {},
     "output_type": "execute_result"
    }
   ],
   "source": [
    "# 找出百度员工的帖子\n",
    "gossip_set_usernames_texts = zip(gossip_set_usernames, gossip_set_likes, gossip_set_texts)\n",
    "gossip_set_bdyg_texts = [i for i in gossip_set_usernames_texts if i[0] == '百度员工']\n",
    "gossip_set_bdyg_texts = sorted(gossip_set_bdyg_texts, key=lambda x: x[1], reverse=True)\n",
    "gossip_set_bdyg_texts[:100]"
   ]
  },
  {
   "cell_type": "code",
   "execution_count": 66,
   "metadata": {},
   "outputs": [],
   "source": [
    "# 词频统计，所有数据/点赞数超过100/点赞数大于0\n",
    "import jieba\n",
    "gossip_set_words = []\n",
    "for i in gossip_set_texts:\n",
    "    seg_words = list(jieba.cut(i))\n",
    "    gossip_set_words += seg_words\n",
    "words_freq_counter = Counter(gossip_set_words)\n",
    "words_freq_counter = sorted(words_freq_counter.items(), key=lambda x: x[1], reverse=True)"
   ]
  },
  {
   "cell_type": "code",
   "execution_count": 70,
   "metadata": {},
   "outputs": [
    {
     "data": {
      "text/plain": [
       "[('百度', 12017),\n",
       " ('阿里', 8912),\n",
       " ('腾讯', 6979),\n",
       " ('公司', 6676),\n",
       " ('京东', 5983),\n",
       " ('什么', 5902),\n",
       " ('美团', 5862),\n",
       " ('面试', 4629),\n",
       " ('一个', 4168),\n",
       " ('现在', 3788),\n",
       " ('工作', 3491),\n",
       " ('怎么', 3415),\n",
       " ('知道', 3136),\n",
       " ('没有', 3032),\n",
       " ('网易', 2999),\n",
       " ('offer', 2944),\n",
       " ('小米', 2920),\n",
       " ('产品', 2916),\n",
       " ('还是', 2912),\n",
       " ('多少', 2806),\n",
       " ('头条', 2698),\n",
       " ('微信', 2680),\n",
       " ('怎么样', 2530),\n",
       " ('可以', 2492),\n",
       " ('部门', 2424),\n",
       " ('华为', 2289),\n",
       " ('自己', 2282),\n",
       " ('大家', 2168),\n",
       " ('技术', 2157),\n",
       " ('一下', 2057),\n",
       " ('这个', 2026),\n",
       " ('是不是', 2002),\n",
       " ('吐血', 1967),\n",
       " ('感觉', 1889),\n",
       " ('360', 1864),\n",
       " ('员工', 1818),\n",
       " ('薪资', 1814),\n",
       " ('你们', 1807),\n",
       " ('运营', 1783),\n",
       " ('就是', 1714),\n",
       " ('今日', 1657),\n",
       " ('互联网', 1606),\n",
       " ('哪个', 1599),\n",
       " ('还有', 1589),\n",
       " ('今天', 1579),\n",
       " ('北京', 1565),\n",
       " ('有没有', 1542),\n",
       " ('这么', 1510),\n",
       " ('支付宝', 1508),\n",
       " ('不是', 1498)]"
      ]
     },
     "execution_count": 70,
     "metadata": {},
     "output_type": "execute_result"
    }
   ],
   "source": [
    "words_freq_counter = [i for i in words_freq_counter if len(i[0]) >= 2]\n",
    "words_freq_counter[:50]"
   ]
  },
  {
   "cell_type": "code",
   "execution_count": 75,
   "metadata": {},
   "outputs": [],
   "source": [
    "# 词频统计，点赞数超过0\n",
    "# todo\n",
    "gossip_set_likes_texts = zip(gossip_set_likes, gossip_set_texts)\n",
    "gossip_set_likes_texts_0 = [i for i in gossip_set_likes_texts if i[0] > 0]\n",
    "gossip_set_texts_0 = list(zip(*gossip_set_likes_texts_0))[1]\n",
    "gossip_set_texts_0\n",
    "import jieba\n",
    "gossip_set_words_0 = []\n",
    "for i in gossip_set_texts_0:\n",
    "    seg_words = list(jieba.cut(i))\n",
    "    gossip_set_words_0 += seg_words\n",
    "words_freq_counter_0 = Counter(gossip_set_words_0)\n",
    "words_freq_counter_0 = sorted(words_freq_counter_0.items(), key=lambda x: x[1], reverse=True)"
   ]
  },
  {
   "cell_type": "code",
   "execution_count": 76,
   "metadata": {},
   "outputs": [
    {
     "data": {
      "text/plain": [
       "[('百度', 9091),\n",
       " ('阿里', 6711),\n",
       " ('腾讯', 5151),\n",
       " ('公司', 5020),\n",
       " ('京东', 4495),\n",
       " ('美团', 4451),\n",
       " ('什么', 4428),\n",
       " ('面试', 3443),\n",
       " ('一个', 3178),\n",
       " ('现在', 2931),\n",
       " ('工作', 2610),\n",
       " ('怎么', 2587),\n",
       " ('知道', 2341),\n",
       " ('网易', 2234),\n",
       " ('小米', 2233),\n",
       " ('没有', 2230),\n",
       " ('还是', 2200),\n",
       " ('offer', 2190),\n",
       " ('产品', 2151),\n",
       " ('多少', 2122),\n",
       " ('微信', 2020),\n",
       " ('头条', 1992),\n",
       " ('怎么样', 1928),\n",
       " ('可以', 1854),\n",
       " ('部门', 1801),\n",
       " ('华为', 1721),\n",
       " ('自己', 1693),\n",
       " ('技术', 1646),\n",
       " ('大家', 1594),\n",
       " ('一下', 1554),\n",
       " ('这个', 1515),\n",
       " ('是不是', 1496),\n",
       " ('吐血', 1491),\n",
       " ('感觉', 1452),\n",
       " ('薪资', 1421),\n",
       " ('员工', 1390),\n",
       " ('运营', 1383),\n",
       " ('360', 1381),\n",
       " ('你们', 1341),\n",
       " ('就是', 1280),\n",
       " ('哪个', 1250),\n",
       " ('还有', 1226),\n",
       " ('今天', 1207),\n",
       " ('今日', 1207),\n",
       " ('互联网', 1190),\n",
       " ('北京', 1165),\n",
       " ('有没有', 1164),\n",
       " ('支付宝', 1151),\n",
       " ('这么', 1134),\n",
       " ('不是', 1109)]"
      ]
     },
     "execution_count": 76,
     "metadata": {},
     "output_type": "execute_result"
    }
   ],
   "source": [
    "words_freq_counter_0 = [i for i in words_freq_counter_0 if len(i[0]) >= 2]\n",
    "words_freq_counter_0[:50]"
   ]
  },
  {
   "cell_type": "code",
   "execution_count": 77,
   "metadata": {},
   "outputs": [],
   "source": [
    "# 词频统计，点赞数大于100\n",
    "# todo\n",
    "gossip_set_likes_texts = zip(gossip_set_likes, gossip_set_texts)\n",
    "gossip_set_likes_texts_100 = [i for i in gossip_set_likes_texts if i[0] > 0]\n",
    "gossip_set_texts_100 = list(zip(*gossip_set_likes_texts_100))[1]\n",
    "gossip_set_texts_100\n",
    "import jieba\n",
    "gossip_set_words_100 = []\n",
    "for i in gossip_set_texts_100:\n",
    "    seg_words = list(jieba.cut(i))\n",
    "    gossip_set_words_100 += seg_words\n",
    "words_freq_counter_100 = Counter(gossip_set_words_100)\n",
    "words_freq_counter_100 = sorted(words_freq_counter_100.items(), key=lambda x: x[1], reverse=True)"
   ]
  },
  {
   "cell_type": "code",
   "execution_count": 78,
   "metadata": {},
   "outputs": [
    {
     "data": {
      "text/plain": [
       "[('百度', 9091),\n",
       " ('阿里', 6711),\n",
       " ('腾讯', 5151),\n",
       " ('公司', 5020),\n",
       " ('京东', 4495),\n",
       " ('美团', 4451),\n",
       " ('什么', 4428),\n",
       " ('面试', 3443),\n",
       " ('一个', 3178),\n",
       " ('现在', 2931),\n",
       " ('工作', 2610),\n",
       " ('怎么', 2587),\n",
       " ('知道', 2341),\n",
       " ('网易', 2234),\n",
       " ('小米', 2233),\n",
       " ('没有', 2230),\n",
       " ('还是', 2200),\n",
       " ('offer', 2190),\n",
       " ('产品', 2151),\n",
       " ('多少', 2122),\n",
       " ('微信', 2020),\n",
       " ('头条', 1992),\n",
       " ('怎么样', 1928),\n",
       " ('可以', 1854),\n",
       " ('部门', 1801),\n",
       " ('华为', 1721),\n",
       " ('自己', 1693),\n",
       " ('技术', 1646),\n",
       " ('大家', 1594),\n",
       " ('一下', 1554),\n",
       " ('这个', 1515),\n",
       " ('是不是', 1496),\n",
       " ('吐血', 1491),\n",
       " ('感觉', 1452),\n",
       " ('薪资', 1421),\n",
       " ('员工', 1390),\n",
       " ('运营', 1383),\n",
       " ('360', 1381),\n",
       " ('你们', 1341),\n",
       " ('就是', 1280),\n",
       " ('哪个', 1250),\n",
       " ('还有', 1226),\n",
       " ('今天', 1207),\n",
       " ('今日', 1207),\n",
       " ('互联网', 1190),\n",
       " ('北京', 1165),\n",
       " ('有没有', 1164),\n",
       " ('支付宝', 1151),\n",
       " ('这么', 1134),\n",
       " ('不是', 1109)]"
      ]
     },
     "execution_count": 78,
     "metadata": {},
     "output_type": "execute_result"
    }
   ],
   "source": [
    "words_freq_counter_100 = [i for i in words_freq_counter_100 if len(i[0]) >= 2]\n",
    "words_freq_counter_100[:50]"
   ]
  },
  {
   "cell_type": "code",
   "execution_count": null,
   "metadata": {},
   "outputs": [],
   "source": []
  }
 ],
 "metadata": {
  "kernelspec": {
   "display_name": "Python 3",
   "language": "python",
   "name": "python3"
  },
  "language_info": {
   "codemirror_mode": {
    "name": "ipython",
    "version": 3
   },
   "file_extension": ".py",
   "mimetype": "text/x-python",
   "name": "python",
   "nbconvert_exporter": "python",
   "pygments_lexer": "ipython3",
   "version": "3.6.6"
  }
 },
 "nbformat": 4,
 "nbformat_minor": 2
}
